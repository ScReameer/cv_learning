{
  "cells": [
    {
      "cell_type": "markdown",
      "metadata": {
        "id": "peKwOLXOwes_"
      },
      "source": [
        "Давайте с вами решим многоклассовую задачу, но теперь с использованием более верхнеуровневого фреймворка PyTorch.\n",
        "\n",
        "Для этого мы возьмём датасет MNIST. Он очень похож на Digits из предыдущего задания и тоже содержит черно-белые рукописные цифры от 0 до 9, только размер уже 28х28 пикселей.\n",
        "\n",
        "Вообще, MNIST — знаковый датасет для глубокого обучения, именно для него Yahn LeCun разработал первую свёрточную нейросеть LeNet и применил для её обучения механизм обратного распространения ошибки, что дало сильный толчок в развитии нейронных сетей и глубокого обучения в целом."
      ]
    },
    {
      "cell_type": "markdown",
      "metadata": {
        "id": "f8kPwjr1yTQx"
      },
      "source": [
        "В этом задании вам придется много опираться на ноутбук ipynb, в котором мы знакомились с основными элементами PyTorch"
      ]
    },
    {
      "cell_type": "markdown",
      "metadata": {
        "id": "nJ2UERTwkkUf"
      },
      "source": [
        "# Финальное задание PyTorch"
      ]
    },
    {
      "cell_type": "markdown",
      "metadata": {
        "id": "wb7nZCNfiHvX"
      },
      "source": [
        "Начнем с основных импортов и определения констант - доступного девайса для вычислений и параметров, которые зависят от выборки"
      ]
    },
    {
      "cell_type": "code",
      "execution_count": 1,
      "metadata": {
        "id": "XVmBHU5edzqN"
      },
      "outputs": [
        {
          "name": "stdout",
          "output_type": "stream",
          "text": [
            "Using cuda\n"
          ]
        }
      ],
      "source": [
        "import torch\n",
        "import torch.nn as nn\n",
        "import torchvision\n",
        "import torchvision.transforms as transforms\n",
        "\n",
        "# выбор девайса\n",
        "device = torch.device('cuda' if torch.cuda.is_available() else 'cpu')\n",
        "\n",
        "# параметры, которые зависят от нашего датасета\n",
        "input_size = 784\n",
        "num_classes = 10\n",
        "print(f'Using {device}')"
      ]
    },
    {
      "cell_type": "markdown",
      "metadata": {
        "id": "5ZDEIQ1JiVXm"
      },
      "source": [
        "Предлагаем вам попробовать выбрать самим гиперпараметры обучения"
      ]
    },
    {
      "cell_type": "code",
      "execution_count": 3,
      "metadata": {
        "id": "id0sYfupd20V"
      },
      "outputs": [],
      "source": [
        "# выберите сами данные параметры\n",
        "num_epochs = 30\n",
        "batch_size = 32\n",
        "learning_rate = 1e-2"
      ]
    },
    {
      "cell_type": "markdown",
      "metadata": {
        "id": "jnootprMixZm"
      },
      "source": [
        "Загружаем датасет MNIST - он есть в стандартном наборе датасетов pytorch, выбираем transform=ToTensor(), это важно!"
      ]
    },
    {
      "cell_type": "code",
      "execution_count": 6,
      "metadata": {
        "id": "cKVuwQcqd5Ql"
      },
      "outputs": [
        {
          "name": "stdout",
          "output_type": "stream",
          "text": [
            "Downloading http://yann.lecun.com/exdb/mnist/train-images-idx3-ubyte.gz\n",
            "Downloading http://yann.lecun.com/exdb/mnist/train-images-idx3-ubyte.gz to ./data/MNIST/raw/train-images-idx3-ubyte.gz\n"
          ]
        },
        {
          "name": "stderr",
          "output_type": "stream",
          "text": [
            "100%|██████████| 9912422/9912422 [00:00<00:00, 18516979.54it/s]\n"
          ]
        },
        {
          "name": "stdout",
          "output_type": "stream",
          "text": [
            "Extracting ./data/MNIST/raw/train-images-idx3-ubyte.gz to ./data/MNIST/raw\n",
            "\n",
            "Downloading http://yann.lecun.com/exdb/mnist/train-labels-idx1-ubyte.gz\n",
            "Downloading http://yann.lecun.com/exdb/mnist/train-labels-idx1-ubyte.gz to ./data/MNIST/raw/train-labels-idx1-ubyte.gz\n"
          ]
        },
        {
          "name": "stderr",
          "output_type": "stream",
          "text": [
            "100%|██████████| 28881/28881 [00:00<00:00, 62829716.71it/s]"
          ]
        },
        {
          "name": "stdout",
          "output_type": "stream",
          "text": [
            "Extracting ./data/MNIST/raw/train-labels-idx1-ubyte.gz to ./data/MNIST/raw\n",
            "\n",
            "Downloading http://yann.lecun.com/exdb/mnist/t10k-images-idx3-ubyte.gz\n"
          ]
        },
        {
          "name": "stderr",
          "output_type": "stream",
          "text": [
            "\n"
          ]
        },
        {
          "name": "stdout",
          "output_type": "stream",
          "text": [
            "Downloading http://yann.lecun.com/exdb/mnist/t10k-images-idx3-ubyte.gz to ./data/MNIST/raw/t10k-images-idx3-ubyte.gz\n"
          ]
        },
        {
          "name": "stderr",
          "output_type": "stream",
          "text": [
            "100%|██████████| 1648877/1648877 [00:00<00:00, 6191686.93it/s]\n"
          ]
        },
        {
          "name": "stdout",
          "output_type": "stream",
          "text": [
            "Extracting ./data/MNIST/raw/t10k-images-idx3-ubyte.gz to ./data/MNIST/raw\n",
            "\n",
            "Downloading http://yann.lecun.com/exdb/mnist/t10k-labels-idx1-ubyte.gz\n",
            "Downloading http://yann.lecun.com/exdb/mnist/t10k-labels-idx1-ubyte.gz to ./data/MNIST/raw/t10k-labels-idx1-ubyte.gz\n"
          ]
        },
        {
          "name": "stderr",
          "output_type": "stream",
          "text": [
            "100%|██████████| 4542/4542 [00:00<00:00, 15928535.76it/s]"
          ]
        },
        {
          "name": "stdout",
          "output_type": "stream",
          "text": [
            "Extracting ./data/MNIST/raw/t10k-labels-idx1-ubyte.gz to ./data/MNIST/raw\n",
            "\n"
          ]
        },
        {
          "name": "stderr",
          "output_type": "stream",
          "text": [
            "\n"
          ]
        }
      ],
      "source": [
        "# MNIST dataset \n",
        "train_dataset = torchvision.datasets.MNIST(root='./data', \n",
        "                                           train=True, \n",
        "                                           transform=transforms.ToTensor(),  \n",
        "                                           download=True)\n",
        "\n",
        "test_dataset = torchvision.datasets.MNIST(root='./data', \n",
        "                                          train=False, \n",
        "                                          transform=transforms.ToTensor())\n",
        "\n",
        "# transform.ToTensor() записывает данные в torch.tensor и нормализовывает данные,\n",
        "# разделяя значения каждого пикселя на 255"
      ]
    },
    {
      "cell_type": "markdown",
      "metadata": {
        "id": "ipgirQxSjKWG"
      },
      "source": [
        "Настраиваем dataloader - объект, который датасет "
      ]
    },
    {
      "cell_type": "code",
      "execution_count": 7,
      "metadata": {
        "id": "06yWRBfWjIfV"
      },
      "outputs": [],
      "source": [
        "# Data loader\n",
        "train_loader = torch.utils.data.DataLoader(dataset=train_dataset, \n",
        "                                           batch_size=batch_size, \n",
        "                                           shuffle=True)\n",
        "\n",
        "test_loader = torch.utils.data.DataLoader(dataset=test_dataset, \n",
        "                                          batch_size=batch_size, \n",
        "                                          shuffle=False)"
      ]
    },
    {
      "cell_type": "code",
      "execution_count": 8,
      "metadata": {
        "id": "hD-iGbicd9FM"
      },
      "outputs": [],
      "source": [
        "class NeuralNet(nn.Module):\n",
        "    def __init__(self, input_size, num_classes):\n",
        "        super(NeuralNet, self).__init__()\n",
        "        self.flatten = nn.Flatten()\n",
        "        self.sequential = nn.Sequential(\n",
        "            nn.Linear(input_size, 512),\n",
        "            nn.ReLU(),\n",
        "            nn.Linear(512, num_classes)\n",
        "        )\n",
        "        # сконструируйте свою сеть, опишите слои, которые будут использоваться\n",
        "        # достаточно будет двух линейных слоев с ReLU после первого,\n",
        "        # но мы оставляем этот выбор вам, можно составить любую сеть\n",
        "        # SoftMax указывать не нужно \n",
        "    \n",
        "    def forward(self, x):\n",
        "        out = self.sequential(self.flatten(x))\n",
        "        # опишите функцию forward, то есть проход по вашей сети\n",
        "        # результат применения x к первому слою отдайте на вход функции активации\n",
        "        # выход функции активации отправьте на вход следущему слою и так далее\n",
        "        return out\n",
        "\n",
        "model = NeuralNet(input_size, num_classes).to(device)"
      ]
    },
    {
      "cell_type": "code",
      "execution_count": 9,
      "metadata": {
        "id": "lBBvPF5ieAV0"
      },
      "outputs": [],
      "source": [
        "# Loss and optimizer\n",
        "criterion = nn.CrossEntropyLoss() \n",
        "# в качестве функции потерь используем Cross Entropy\n",
        "# в PyTorch кросс энтропия реализована с помощью LogSoftmax и \n",
        "# Negative Log Likelyhood loss, что на самом деле даёт такой же результат\n",
        "# Так как мы не указали внутри сети SoftMax и он учтен только в Loss функции,\n",
        "# при тестировании сети нам нужно учесть этот факт и руками интерпретировать выход сети\n",
        "\n",
        "\n",
        "optimizer = torch.optim.Adam(params=model.parameters(), lr=learning_rate)# выберите оптимизатор (вариантов много - SGD, AdaGrad, Adam, RMSProp и т.д.)\n",
        "# параметры для оптимизатора, передайте в скобках в предыдущей строке(model.parameters(), lr=learning_rate)  \n",
        "# почитать про оптимизаторы можно тут https://pytorch.org/docs/stable/optim.html"
      ]
    },
    {
      "cell_type": "code",
      "execution_count": 12,
      "metadata": {},
      "outputs": [
        {
          "data": {
            "text/plain": [
              "torch.Size([32, 1, 28, 28])"
            ]
          },
          "execution_count": 12,
          "metadata": {},
          "output_type": "execute_result"
        }
      ],
      "source": [
        "test = next(iter(train_loader))\n",
        "test[0].shape"
      ]
    },
    {
      "cell_type": "code",
      "execution_count": 13,
      "metadata": {
        "id": "jaAOxTqKeDXM"
      },
      "outputs": [
        {
          "name": "stdout",
          "output_type": "stream",
          "text": [
            "Epoch [1/30], Step [100/1875], Loss: 0.1519\n",
            "Epoch [1/30], Step [200/1875], Loss: 0.5406\n",
            "Epoch [1/30], Step [300/1875], Loss: 0.1115\n",
            "Epoch [1/30], Step [400/1875], Loss: 0.5553\n",
            "Epoch [1/30], Step [500/1875], Loss: 0.3290\n",
            "Epoch [1/30], Step [600/1875], Loss: 0.3371\n",
            "Epoch [1/30], Step [700/1875], Loss: 0.1706\n",
            "Epoch [1/30], Step [800/1875], Loss: 0.3104\n",
            "Epoch [1/30], Step [900/1875], Loss: 0.2279\n",
            "Epoch [1/30], Step [1000/1875], Loss: 0.1755\n",
            "Epoch [1/30], Step [1100/1875], Loss: 0.1396\n",
            "Epoch [1/30], Step [1200/1875], Loss: 0.1996\n",
            "Epoch [1/30], Step [1300/1875], Loss: 0.1368\n",
            "Epoch [1/30], Step [1400/1875], Loss: 0.1426\n",
            "Epoch [1/30], Step [1500/1875], Loss: 0.1220\n",
            "Epoch [1/30], Step [1600/1875], Loss: 0.3083\n",
            "Epoch [1/30], Step [1700/1875], Loss: 0.1461\n",
            "Epoch [1/30], Step [1800/1875], Loss: 0.1475\n",
            "Epoch [2/30], Step [100/1875], Loss: 0.0670\n",
            "Epoch [2/30], Step [200/1875], Loss: 0.2417\n",
            "Epoch [2/30], Step [300/1875], Loss: 0.1521\n",
            "Epoch [2/30], Step [400/1875], Loss: 0.0802\n",
            "Epoch [2/30], Step [500/1875], Loss: 0.1035\n",
            "Epoch [2/30], Step [600/1875], Loss: 0.0038\n",
            "Epoch [2/30], Step [700/1875], Loss: 0.0213\n",
            "Epoch [2/30], Step [800/1875], Loss: 0.1700\n",
            "Epoch [2/30], Step [900/1875], Loss: 0.1428\n",
            "Epoch [2/30], Step [1000/1875], Loss: 0.0264\n",
            "Epoch [2/30], Step [1100/1875], Loss: 0.3787\n",
            "Epoch [2/30], Step [1200/1875], Loss: 0.0205\n",
            "Epoch [2/30], Step [1300/1875], Loss: 0.1048\n",
            "Epoch [2/30], Step [1400/1875], Loss: 0.1515\n",
            "Epoch [2/30], Step [1500/1875], Loss: 0.0475\n",
            "Epoch [2/30], Step [1600/1875], Loss: 0.0569\n",
            "Epoch [2/30], Step [1700/1875], Loss: 0.0592\n",
            "Epoch [2/30], Step [1800/1875], Loss: 0.1397\n",
            "Epoch [3/30], Step [100/1875], Loss: 0.1373\n",
            "Epoch [3/30], Step [200/1875], Loss: 0.0643\n",
            "Epoch [3/30], Step [300/1875], Loss: 0.0715\n",
            "Epoch [3/30], Step [400/1875], Loss: 0.0904\n",
            "Epoch [3/30], Step [500/1875], Loss: 0.0878\n",
            "Epoch [3/30], Step [600/1875], Loss: 0.0319\n",
            "Epoch [3/30], Step [700/1875], Loss: 0.1414\n",
            "Epoch [3/30], Step [800/1875], Loss: 0.0725\n",
            "Epoch [3/30], Step [900/1875], Loss: 0.1163\n",
            "Epoch [3/30], Step [1000/1875], Loss: 0.0964\n",
            "Epoch [3/30], Step [1100/1875], Loss: 0.2312\n",
            "Epoch [3/30], Step [1200/1875], Loss: 0.0638\n",
            "Epoch [3/30], Step [1300/1875], Loss: 0.2785\n",
            "Epoch [3/30], Step [1400/1875], Loss: 0.0033\n",
            "Epoch [3/30], Step [1500/1875], Loss: 0.0953\n",
            "Epoch [3/30], Step [1600/1875], Loss: 0.0149\n",
            "Epoch [3/30], Step [1700/1875], Loss: 0.4266\n",
            "Epoch [3/30], Step [1800/1875], Loss: 0.1035\n",
            "Epoch [4/30], Step [100/1875], Loss: 0.0177\n",
            "Epoch [4/30], Step [200/1875], Loss: 0.0142\n",
            "Epoch [4/30], Step [300/1875], Loss: 0.0615\n",
            "Epoch [4/30], Step [400/1875], Loss: 0.5608\n",
            "Epoch [4/30], Step [500/1875], Loss: 0.0342\n",
            "Epoch [4/30], Step [600/1875], Loss: 0.2817\n",
            "Epoch [4/30], Step [700/1875], Loss: 0.2785\n",
            "Epoch [4/30], Step [800/1875], Loss: 0.2340\n",
            "Epoch [4/30], Step [900/1875], Loss: 0.1150\n",
            "Epoch [4/30], Step [1000/1875], Loss: 0.0022\n",
            "Epoch [4/30], Step [1100/1875], Loss: 0.0023\n",
            "Epoch [4/30], Step [1200/1875], Loss: 0.2687\n",
            "Epoch [4/30], Step [1300/1875], Loss: 0.0060\n",
            "Epoch [4/30], Step [1400/1875], Loss: 0.0021\n",
            "Epoch [4/30], Step [1500/1875], Loss: 0.0130\n",
            "Epoch [4/30], Step [1600/1875], Loss: 0.0504\n",
            "Epoch [4/30], Step [1700/1875], Loss: 0.2902\n",
            "Epoch [4/30], Step [1800/1875], Loss: 0.0645\n",
            "Epoch [5/30], Step [100/1875], Loss: 0.0119\n",
            "Epoch [5/30], Step [200/1875], Loss: 0.0225\n",
            "Epoch [5/30], Step [300/1875], Loss: 0.0003\n",
            "Epoch [5/30], Step [400/1875], Loss: 0.3364\n",
            "Epoch [5/30], Step [500/1875], Loss: 0.0556\n",
            "Epoch [5/30], Step [600/1875], Loss: 0.0107\n",
            "Epoch [5/30], Step [700/1875], Loss: 0.4120\n",
            "Epoch [5/30], Step [800/1875], Loss: 0.0446\n",
            "Epoch [5/30], Step [900/1875], Loss: 0.2894\n",
            "Epoch [5/30], Step [1000/1875], Loss: 0.0157\n",
            "Epoch [5/30], Step [1100/1875], Loss: 0.0391\n",
            "Epoch [5/30], Step [1200/1875], Loss: 0.1582\n",
            "Epoch [5/30], Step [1300/1875], Loss: 0.0338\n",
            "Epoch [5/30], Step [1400/1875], Loss: 0.0298\n",
            "Epoch [5/30], Step [1500/1875], Loss: 0.0812\n",
            "Epoch [5/30], Step [1600/1875], Loss: 0.1439\n",
            "Epoch [5/30], Step [1700/1875], Loss: 0.0455\n",
            "Epoch [5/30], Step [1800/1875], Loss: 0.0136\n",
            "Epoch [6/30], Step [100/1875], Loss: 0.1982\n",
            "Epoch [6/30], Step [200/1875], Loss: 0.1353\n",
            "Epoch [6/30], Step [300/1875], Loss: 0.1394\n",
            "Epoch [6/30], Step [400/1875], Loss: 0.2757\n",
            "Epoch [6/30], Step [500/1875], Loss: 0.1431\n",
            "Epoch [6/30], Step [600/1875], Loss: 0.2508\n",
            "Epoch [6/30], Step [700/1875], Loss: 0.0830\n",
            "Epoch [6/30], Step [800/1875], Loss: 0.0095\n",
            "Epoch [6/30], Step [900/1875], Loss: 0.0949\n",
            "Epoch [6/30], Step [1000/1875], Loss: 0.0039\n",
            "Epoch [6/30], Step [1100/1875], Loss: 0.0838\n",
            "Epoch [6/30], Step [1200/1875], Loss: 0.0299\n",
            "Epoch [6/30], Step [1300/1875], Loss: 0.1746\n",
            "Epoch [6/30], Step [1400/1875], Loss: 0.0006\n",
            "Epoch [6/30], Step [1500/1875], Loss: 0.0287\n",
            "Epoch [6/30], Step [1600/1875], Loss: 0.1832\n",
            "Epoch [6/30], Step [1700/1875], Loss: 0.0073\n",
            "Epoch [6/30], Step [1800/1875], Loss: 0.0012\n",
            "Epoch [7/30], Step [100/1875], Loss: 0.0850\n",
            "Epoch [7/30], Step [200/1875], Loss: 0.0810\n",
            "Epoch [7/30], Step [300/1875], Loss: 0.0022\n",
            "Epoch [7/30], Step [400/1875], Loss: 0.0005\n",
            "Epoch [7/30], Step [500/1875], Loss: 0.0545\n",
            "Epoch [7/30], Step [600/1875], Loss: 0.0005\n",
            "Epoch [7/30], Step [700/1875], Loss: 0.0167\n",
            "Epoch [7/30], Step [800/1875], Loss: 0.2883\n",
            "Epoch [7/30], Step [900/1875], Loss: 0.0025\n",
            "Epoch [7/30], Step [1000/1875], Loss: 0.0052\n",
            "Epoch [7/30], Step [1100/1875], Loss: 0.0037\n",
            "Epoch [7/30], Step [1200/1875], Loss: 0.0004\n",
            "Epoch [7/30], Step [1300/1875], Loss: 0.0761\n",
            "Epoch [7/30], Step [1400/1875], Loss: 0.0453\n",
            "Epoch [7/30], Step [1500/1875], Loss: 0.0006\n",
            "Epoch [7/30], Step [1600/1875], Loss: 0.0987\n",
            "Epoch [7/30], Step [1700/1875], Loss: 0.0036\n",
            "Epoch [7/30], Step [1800/1875], Loss: 0.2305\n",
            "Epoch [8/30], Step [100/1875], Loss: 0.1115\n",
            "Epoch [8/30], Step [200/1875], Loss: 0.0156\n",
            "Epoch [8/30], Step [300/1875], Loss: 0.0046\n",
            "Epoch [8/30], Step [400/1875], Loss: 0.0257\n",
            "Epoch [8/30], Step [500/1875], Loss: 0.0435\n",
            "Epoch [8/30], Step [600/1875], Loss: 0.0207\n",
            "Epoch [8/30], Step [700/1875], Loss: 0.0104\n",
            "Epoch [8/30], Step [800/1875], Loss: 0.1051\n",
            "Epoch [8/30], Step [900/1875], Loss: 0.1508\n",
            "Epoch [8/30], Step [1000/1875], Loss: 0.2287\n",
            "Epoch [8/30], Step [1100/1875], Loss: 0.1641\n",
            "Epoch [8/30], Step [1200/1875], Loss: 0.5197\n",
            "Epoch [8/30], Step [1300/1875], Loss: 0.3494\n",
            "Epoch [8/30], Step [1400/1875], Loss: 0.0010\n",
            "Epoch [8/30], Step [1500/1875], Loss: 0.1263\n",
            "Epoch [8/30], Step [1600/1875], Loss: 0.2721\n",
            "Epoch [8/30], Step [1700/1875], Loss: 0.3029\n",
            "Epoch [8/30], Step [1800/1875], Loss: 0.1909\n",
            "Epoch [9/30], Step [100/1875], Loss: 0.0157\n",
            "Epoch [9/30], Step [200/1875], Loss: 0.1931\n",
            "Epoch [9/30], Step [300/1875], Loss: 0.0123\n",
            "Epoch [9/30], Step [400/1875], Loss: 0.0322\n",
            "Epoch [9/30], Step [500/1875], Loss: 0.0248\n",
            "Epoch [9/30], Step [600/1875], Loss: 0.0293\n",
            "Epoch [9/30], Step [700/1875], Loss: 0.1767\n",
            "Epoch [9/30], Step [800/1875], Loss: 0.0648\n",
            "Epoch [9/30], Step [900/1875], Loss: 0.0018\n",
            "Epoch [9/30], Step [1000/1875], Loss: 0.0811\n",
            "Epoch [9/30], Step [1100/1875], Loss: 1.8772\n",
            "Epoch [9/30], Step [1200/1875], Loss: 0.0273\n",
            "Epoch [9/30], Step [1300/1875], Loss: 0.0134\n",
            "Epoch [9/30], Step [1400/1875], Loss: 0.0190\n",
            "Epoch [9/30], Step [1500/1875], Loss: 0.2843\n",
            "Epoch [9/30], Step [1600/1875], Loss: 0.0155\n",
            "Epoch [9/30], Step [1700/1875], Loss: 0.3068\n",
            "Epoch [9/30], Step [1800/1875], Loss: 0.1009\n",
            "Epoch [10/30], Step [100/1875], Loss: 0.1984\n",
            "Epoch [10/30], Step [200/1875], Loss: 0.0049\n",
            "Epoch [10/30], Step [300/1875], Loss: 0.0004\n",
            "Epoch [10/30], Step [400/1875], Loss: 0.0149\n",
            "Epoch [10/30], Step [500/1875], Loss: 0.0026\n",
            "Epoch [10/30], Step [600/1875], Loss: 0.0041\n",
            "Epoch [10/30], Step [700/1875], Loss: 0.1995\n",
            "Epoch [10/30], Step [800/1875], Loss: 0.2062\n",
            "Epoch [10/30], Step [900/1875], Loss: 0.0536\n",
            "Epoch [10/30], Step [1000/1875], Loss: 0.2854\n",
            "Epoch [10/30], Step [1100/1875], Loss: 0.1308\n",
            "Epoch [10/30], Step [1200/1875], Loss: 0.0003\n",
            "Epoch [10/30], Step [1300/1875], Loss: 0.0009\n",
            "Epoch [10/30], Step [1400/1875], Loss: 0.3470\n",
            "Epoch [10/30], Step [1500/1875], Loss: 0.2998\n",
            "Epoch [10/30], Step [1600/1875], Loss: 0.0505\n",
            "Epoch [10/30], Step [1700/1875], Loss: 0.0053\n",
            "Epoch [10/30], Step [1800/1875], Loss: 0.1113\n",
            "Epoch [11/30], Step [100/1875], Loss: 0.1090\n",
            "Epoch [11/30], Step [200/1875], Loss: 0.0555\n",
            "Epoch [11/30], Step [300/1875], Loss: 0.0406\n",
            "Epoch [11/30], Step [400/1875], Loss: 0.0372\n",
            "Epoch [11/30], Step [500/1875], Loss: 0.0082\n",
            "Epoch [11/30], Step [600/1875], Loss: 0.0343\n",
            "Epoch [11/30], Step [700/1875], Loss: 0.0012\n",
            "Epoch [11/30], Step [800/1875], Loss: 0.0389\n",
            "Epoch [11/30], Step [900/1875], Loss: 0.0001\n",
            "Epoch [11/30], Step [1000/1875], Loss: 0.0371\n",
            "Epoch [11/30], Step [1100/1875], Loss: 0.0003\n",
            "Epoch [11/30], Step [1200/1875], Loss: 0.0440\n",
            "Epoch [11/30], Step [1300/1875], Loss: 0.1401\n",
            "Epoch [11/30], Step [1400/1875], Loss: 0.0217\n",
            "Epoch [11/30], Step [1500/1875], Loss: 0.0671\n",
            "Epoch [11/30], Step [1600/1875], Loss: 0.1320\n",
            "Epoch [11/30], Step [1700/1875], Loss: 0.0000\n",
            "Epoch [11/30], Step [1800/1875], Loss: 0.0003\n",
            "Epoch [12/30], Step [100/1875], Loss: 0.0544\n",
            "Epoch [12/30], Step [200/1875], Loss: 0.3316\n",
            "Epoch [12/30], Step [300/1875], Loss: 0.4972\n",
            "Epoch [12/30], Step [400/1875], Loss: 0.0003\n",
            "Epoch [12/30], Step [500/1875], Loss: 0.1052\n",
            "Epoch [12/30], Step [600/1875], Loss: 0.0608\n",
            "Epoch [12/30], Step [700/1875], Loss: 0.0032\n",
            "Epoch [12/30], Step [800/1875], Loss: 0.0001\n",
            "Epoch [12/30], Step [900/1875], Loss: 0.0281\n",
            "Epoch [12/30], Step [1000/1875], Loss: 0.0002\n",
            "Epoch [12/30], Step [1100/1875], Loss: 0.0017\n",
            "Epoch [12/30], Step [1200/1875], Loss: 0.1662\n",
            "Epoch [12/30], Step [1300/1875], Loss: 0.2176\n",
            "Epoch [12/30], Step [1400/1875], Loss: 0.2642\n",
            "Epoch [12/30], Step [1500/1875], Loss: 0.0061\n",
            "Epoch [12/30], Step [1600/1875], Loss: 0.0209\n",
            "Epoch [12/30], Step [1700/1875], Loss: 0.0141\n",
            "Epoch [12/30], Step [1800/1875], Loss: 0.0002\n",
            "Epoch [13/30], Step [100/1875], Loss: 0.0001\n",
            "Epoch [13/30], Step [200/1875], Loss: 0.0008\n",
            "Epoch [13/30], Step [300/1875], Loss: 0.0047\n",
            "Epoch [13/30], Step [400/1875], Loss: 0.0005\n",
            "Epoch [13/30], Step [500/1875], Loss: 0.1169\n",
            "Epoch [13/30], Step [600/1875], Loss: 0.4753\n",
            "Epoch [13/30], Step [700/1875], Loss: 0.0779\n",
            "Epoch [13/30], Step [800/1875], Loss: 0.1970\n",
            "Epoch [13/30], Step [900/1875], Loss: 0.0049\n",
            "Epoch [13/30], Step [1000/1875], Loss: 0.0001\n",
            "Epoch [13/30], Step [1100/1875], Loss: 0.0372\n",
            "Epoch [13/30], Step [1200/1875], Loss: 0.0099\n",
            "Epoch [13/30], Step [1300/1875], Loss: 0.0115\n",
            "Epoch [13/30], Step [1400/1875], Loss: 0.0308\n",
            "Epoch [13/30], Step [1500/1875], Loss: 0.0086\n",
            "Epoch [13/30], Step [1600/1875], Loss: 0.0525\n",
            "Epoch [13/30], Step [1700/1875], Loss: 0.0392\n",
            "Epoch [13/30], Step [1800/1875], Loss: 0.7839\n",
            "Epoch [14/30], Step [100/1875], Loss: 0.0374\n",
            "Epoch [14/30], Step [200/1875], Loss: 0.1863\n",
            "Epoch [14/30], Step [300/1875], Loss: 0.0026\n",
            "Epoch [14/30], Step [400/1875], Loss: 0.0096\n",
            "Epoch [14/30], Step [500/1875], Loss: 0.0017\n",
            "Epoch [14/30], Step [600/1875], Loss: 0.0000\n",
            "Epoch [14/30], Step [700/1875], Loss: 0.2629\n",
            "Epoch [14/30], Step [800/1875], Loss: 0.0000\n",
            "Epoch [14/30], Step [900/1875], Loss: 0.0077\n",
            "Epoch [14/30], Step [1000/1875], Loss: 0.0012\n",
            "Epoch [14/30], Step [1100/1875], Loss: 0.0018\n",
            "Epoch [14/30], Step [1200/1875], Loss: 0.2301\n",
            "Epoch [14/30], Step [1300/1875], Loss: 0.0019\n",
            "Epoch [14/30], Step [1400/1875], Loss: 1.2957\n",
            "Epoch [14/30], Step [1500/1875], Loss: 0.0199\n",
            "Epoch [14/30], Step [1600/1875], Loss: 0.0005\n",
            "Epoch [14/30], Step [1700/1875], Loss: 0.0381\n",
            "Epoch [14/30], Step [1800/1875], Loss: 0.0001\n",
            "Epoch [15/30], Step [100/1875], Loss: 0.0000\n",
            "Epoch [15/30], Step [200/1875], Loss: 0.0002\n",
            "Epoch [15/30], Step [300/1875], Loss: 0.1535\n",
            "Epoch [15/30], Step [400/1875], Loss: 0.2565\n",
            "Epoch [15/30], Step [500/1875], Loss: 0.4669\n",
            "Epoch [15/30], Step [600/1875], Loss: 0.0385\n",
            "Epoch [15/30], Step [700/1875], Loss: 0.0883\n",
            "Epoch [15/30], Step [800/1875], Loss: 0.0126\n",
            "Epoch [15/30], Step [900/1875], Loss: 0.0146\n",
            "Epoch [15/30], Step [1000/1875], Loss: 0.0110\n",
            "Epoch [15/30], Step [1100/1875], Loss: 0.2074\n",
            "Epoch [15/30], Step [1200/1875], Loss: 0.0000\n",
            "Epoch [15/30], Step [1300/1875], Loss: 0.0192\n",
            "Epoch [15/30], Step [1400/1875], Loss: 0.0006\n",
            "Epoch [15/30], Step [1500/1875], Loss: 0.1205\n",
            "Epoch [15/30], Step [1600/1875], Loss: 0.0020\n",
            "Epoch [15/30], Step [1700/1875], Loss: 0.0003\n",
            "Epoch [15/30], Step [1800/1875], Loss: 0.0771\n",
            "Epoch [16/30], Step [100/1875], Loss: 0.2130\n",
            "Epoch [16/30], Step [200/1875], Loss: 0.0078\n",
            "Epoch [16/30], Step [300/1875], Loss: 0.3243\n",
            "Epoch [16/30], Step [400/1875], Loss: 0.0010\n",
            "Epoch [16/30], Step [500/1875], Loss: 0.0654\n",
            "Epoch [16/30], Step [600/1875], Loss: 0.0064\n",
            "Epoch [16/30], Step [700/1875], Loss: 0.2051\n",
            "Epoch [16/30], Step [800/1875], Loss: 0.0002\n",
            "Epoch [16/30], Step [900/1875], Loss: 0.0052\n",
            "Epoch [16/30], Step [1000/1875], Loss: 0.0313\n",
            "Epoch [16/30], Step [1100/1875], Loss: 0.0044\n",
            "Epoch [16/30], Step [1200/1875], Loss: 0.0226\n",
            "Epoch [16/30], Step [1300/1875], Loss: 0.2177\n",
            "Epoch [16/30], Step [1400/1875], Loss: 0.0005\n",
            "Epoch [16/30], Step [1500/1875], Loss: 0.0006\n",
            "Epoch [16/30], Step [1600/1875], Loss: 0.0429\n",
            "Epoch [16/30], Step [1700/1875], Loss: 0.0001\n",
            "Epoch [16/30], Step [1800/1875], Loss: 0.1044\n",
            "Epoch [17/30], Step [100/1875], Loss: 0.0000\n",
            "Epoch [17/30], Step [200/1875], Loss: 0.0020\n",
            "Epoch [17/30], Step [300/1875], Loss: 0.0000\n",
            "Epoch [17/30], Step [400/1875], Loss: 0.0027\n",
            "Epoch [17/30], Step [500/1875], Loss: 0.0004\n",
            "Epoch [17/30], Step [600/1875], Loss: 0.0041\n",
            "Epoch [17/30], Step [700/1875], Loss: 0.1293\n",
            "Epoch [17/30], Step [800/1875], Loss: 0.0044\n",
            "Epoch [17/30], Step [900/1875], Loss: 0.0000\n",
            "Epoch [17/30], Step [1000/1875], Loss: 0.0002\n",
            "Epoch [17/30], Step [1100/1875], Loss: 0.1033\n",
            "Epoch [17/30], Step [1200/1875], Loss: 0.1159\n",
            "Epoch [17/30], Step [1300/1875], Loss: 0.1155\n",
            "Epoch [17/30], Step [1400/1875], Loss: 0.1985\n",
            "Epoch [17/30], Step [1500/1875], Loss: 0.0001\n",
            "Epoch [17/30], Step [1600/1875], Loss: 0.0041\n",
            "Epoch [17/30], Step [1700/1875], Loss: 0.0001\n",
            "Epoch [17/30], Step [1800/1875], Loss: 0.0733\n",
            "Epoch [18/30], Step [100/1875], Loss: 0.0000\n",
            "Epoch [18/30], Step [200/1875], Loss: 0.0169\n",
            "Epoch [18/30], Step [300/1875], Loss: 0.0018\n",
            "Epoch [18/30], Step [400/1875], Loss: 0.3344\n",
            "Epoch [18/30], Step [500/1875], Loss: 0.0004\n",
            "Epoch [18/30], Step [600/1875], Loss: 0.0014\n",
            "Epoch [18/30], Step [700/1875], Loss: 0.0010\n",
            "Epoch [18/30], Step [800/1875], Loss: 0.4145\n",
            "Epoch [18/30], Step [900/1875], Loss: 0.2590\n",
            "Epoch [18/30], Step [1000/1875], Loss: 0.2255\n",
            "Epoch [18/30], Step [1100/1875], Loss: 0.0831\n",
            "Epoch [18/30], Step [1200/1875], Loss: 0.0044\n",
            "Epoch [18/30], Step [1300/1875], Loss: 0.1932\n",
            "Epoch [18/30], Step [1400/1875], Loss: 0.0149\n",
            "Epoch [18/30], Step [1500/1875], Loss: 0.1701\n",
            "Epoch [18/30], Step [1600/1875], Loss: 0.0000\n",
            "Epoch [18/30], Step [1700/1875], Loss: 0.0017\n",
            "Epoch [18/30], Step [1800/1875], Loss: 0.0000\n",
            "Epoch [19/30], Step [100/1875], Loss: 0.0002\n",
            "Epoch [19/30], Step [200/1875], Loss: 0.0742\n",
            "Epoch [19/30], Step [300/1875], Loss: 0.2074\n",
            "Epoch [19/30], Step [400/1875], Loss: 0.0053\n",
            "Epoch [19/30], Step [500/1875], Loss: 0.2464\n",
            "Epoch [19/30], Step [600/1875], Loss: 0.1045\n",
            "Epoch [19/30], Step [700/1875], Loss: 0.0662\n",
            "Epoch [19/30], Step [800/1875], Loss: 0.0946\n",
            "Epoch [19/30], Step [900/1875], Loss: 0.0014\n",
            "Epoch [19/30], Step [1000/1875], Loss: 0.0161\n",
            "Epoch [19/30], Step [1100/1875], Loss: 0.0001\n",
            "Epoch [19/30], Step [1200/1875], Loss: 0.0000\n",
            "Epoch [19/30], Step [1300/1875], Loss: 0.0004\n",
            "Epoch [19/30], Step [1400/1875], Loss: 0.0008\n",
            "Epoch [19/30], Step [1500/1875], Loss: 0.0110\n",
            "Epoch [19/30], Step [1600/1875], Loss: 0.0028\n",
            "Epoch [19/30], Step [1700/1875], Loss: 0.0003\n",
            "Epoch [19/30], Step [1800/1875], Loss: 0.0520\n",
            "Epoch [20/30], Step [100/1875], Loss: 0.0018\n",
            "Epoch [20/30], Step [200/1875], Loss: 0.0034\n",
            "Epoch [20/30], Step [300/1875], Loss: 0.3233\n",
            "Epoch [20/30], Step [400/1875], Loss: 0.3392\n",
            "Epoch [20/30], Step [500/1875], Loss: 0.1196\n",
            "Epoch [20/30], Step [600/1875], Loss: 0.0801\n",
            "Epoch [20/30], Step [700/1875], Loss: 0.1028\n",
            "Epoch [20/30], Step [800/1875], Loss: 0.0014\n",
            "Epoch [20/30], Step [900/1875], Loss: 0.1111\n",
            "Epoch [20/30], Step [1000/1875], Loss: 0.3014\n",
            "Epoch [20/30], Step [1100/1875], Loss: 0.0003\n",
            "Epoch [20/30], Step [1200/1875], Loss: 0.0002\n",
            "Epoch [20/30], Step [1300/1875], Loss: 0.7599\n",
            "Epoch [20/30], Step [1400/1875], Loss: 0.0000\n",
            "Epoch [20/30], Step [1500/1875], Loss: 0.4501\n",
            "Epoch [20/30], Step [1600/1875], Loss: 0.1719\n",
            "Epoch [20/30], Step [1700/1875], Loss: 0.0113\n",
            "Epoch [20/30], Step [1800/1875], Loss: 0.0001\n",
            "Epoch [21/30], Step [100/1875], Loss: 0.0002\n",
            "Epoch [21/30], Step [200/1875], Loss: 0.0027\n",
            "Epoch [21/30], Step [300/1875], Loss: 0.0023\n",
            "Epoch [21/30], Step [400/1875], Loss: 0.0000\n",
            "Epoch [21/30], Step [500/1875], Loss: 0.0039\n",
            "Epoch [21/30], Step [600/1875], Loss: 0.0180\n",
            "Epoch [21/30], Step [700/1875], Loss: 0.0307\n",
            "Epoch [21/30], Step [800/1875], Loss: 0.0129\n",
            "Epoch [21/30], Step [900/1875], Loss: 0.0002\n",
            "Epoch [21/30], Step [1000/1875], Loss: 0.0003\n",
            "Epoch [21/30], Step [1100/1875], Loss: 0.0231\n",
            "Epoch [21/30], Step [1200/1875], Loss: 0.3069\n",
            "Epoch [21/30], Step [1300/1875], Loss: 0.0803\n",
            "Epoch [21/30], Step [1400/1875], Loss: 0.0001\n",
            "Epoch [21/30], Step [1500/1875], Loss: 0.0004\n",
            "Epoch [21/30], Step [1600/1875], Loss: 0.0000\n",
            "Epoch [21/30], Step [1700/1875], Loss: 0.0005\n",
            "Epoch [21/30], Step [1800/1875], Loss: 0.0138\n",
            "Epoch [22/30], Step [100/1875], Loss: 0.0003\n",
            "Epoch [22/30], Step [200/1875], Loss: 0.0026\n",
            "Epoch [22/30], Step [300/1875], Loss: 0.0016\n",
            "Epoch [22/30], Step [400/1875], Loss: 0.0154\n",
            "Epoch [22/30], Step [500/1875], Loss: 0.0000\n",
            "Epoch [22/30], Step [600/1875], Loss: 0.0000\n",
            "Epoch [22/30], Step [700/1875], Loss: 0.0001\n",
            "Epoch [22/30], Step [800/1875], Loss: 0.0114\n",
            "Epoch [22/30], Step [900/1875], Loss: 0.0010\n",
            "Epoch [22/30], Step [1000/1875], Loss: 0.2756\n",
            "Epoch [22/30], Step [1100/1875], Loss: 0.0000\n",
            "Epoch [22/30], Step [1200/1875], Loss: 0.0000\n",
            "Epoch [22/30], Step [1300/1875], Loss: 0.0001\n",
            "Epoch [22/30], Step [1400/1875], Loss: 0.0954\n",
            "Epoch [22/30], Step [1500/1875], Loss: 0.0022\n",
            "Epoch [22/30], Step [1600/1875], Loss: 0.0011\n",
            "Epoch [22/30], Step [1700/1875], Loss: 0.4185\n",
            "Epoch [22/30], Step [1800/1875], Loss: 0.0084\n",
            "Epoch [23/30], Step [100/1875], Loss: 0.0000\n",
            "Epoch [23/30], Step [200/1875], Loss: 0.0005\n",
            "Epoch [23/30], Step [300/1875], Loss: 0.0504\n",
            "Epoch [23/30], Step [400/1875], Loss: 0.0000\n",
            "Epoch [23/30], Step [500/1875], Loss: 0.0000\n",
            "Epoch [23/30], Step [600/1875], Loss: 0.1405\n",
            "Epoch [23/30], Step [700/1875], Loss: 0.0001\n",
            "Epoch [23/30], Step [800/1875], Loss: 0.0000\n",
            "Epoch [23/30], Step [900/1875], Loss: 0.0004\n",
            "Epoch [23/30], Step [1000/1875], Loss: 0.0000\n",
            "Epoch [23/30], Step [1100/1875], Loss: 0.5011\n",
            "Epoch [23/30], Step [1200/1875], Loss: 0.0506\n",
            "Epoch [23/30], Step [1300/1875], Loss: 0.1061\n",
            "Epoch [23/30], Step [1400/1875], Loss: 0.0000\n",
            "Epoch [23/30], Step [1500/1875], Loss: 0.0208\n",
            "Epoch [23/30], Step [1600/1875], Loss: 0.9156\n",
            "Epoch [23/30], Step [1700/1875], Loss: 0.0041\n",
            "Epoch [23/30], Step [1800/1875], Loss: 0.0151\n",
            "Epoch [24/30], Step [100/1875], Loss: 0.0499\n",
            "Epoch [24/30], Step [200/1875], Loss: 0.0008\n",
            "Epoch [24/30], Step [300/1875], Loss: 0.0000\n",
            "Epoch [24/30], Step [400/1875], Loss: 0.3783\n",
            "Epoch [24/30], Step [500/1875], Loss: 0.0002\n",
            "Epoch [24/30], Step [600/1875], Loss: 0.0000\n",
            "Epoch [24/30], Step [700/1875], Loss: 0.0000\n",
            "Epoch [24/30], Step [800/1875], Loss: 0.0007\n",
            "Epoch [24/30], Step [900/1875], Loss: 0.0014\n",
            "Epoch [24/30], Step [1000/1875], Loss: 0.0000\n",
            "Epoch [24/30], Step [1100/1875], Loss: 0.0001\n",
            "Epoch [24/30], Step [1200/1875], Loss: 0.0052\n",
            "Epoch [24/30], Step [1300/1875], Loss: 0.0505\n",
            "Epoch [24/30], Step [1400/1875], Loss: 0.0000\n",
            "Epoch [24/30], Step [1500/1875], Loss: 0.0000\n",
            "Epoch [24/30], Step [1600/1875], Loss: 0.0001\n",
            "Epoch [24/30], Step [1700/1875], Loss: 0.0063\n",
            "Epoch [24/30], Step [1800/1875], Loss: 0.0939\n",
            "Epoch [25/30], Step [100/1875], Loss: 0.0693\n",
            "Epoch [25/30], Step [200/1875], Loss: 0.0000\n",
            "Epoch [25/30], Step [300/1875], Loss: 0.0000\n",
            "Epoch [25/30], Step [400/1875], Loss: 0.0155\n",
            "Epoch [25/30], Step [500/1875], Loss: 0.0111\n",
            "Epoch [25/30], Step [600/1875], Loss: 0.0011\n",
            "Epoch [25/30], Step [700/1875], Loss: 0.0287\n",
            "Epoch [25/30], Step [800/1875], Loss: 0.0242\n",
            "Epoch [25/30], Step [900/1875], Loss: 0.0000\n",
            "Epoch [25/30], Step [1000/1875], Loss: 0.0071\n",
            "Epoch [25/30], Step [1100/1875], Loss: 0.1460\n",
            "Epoch [25/30], Step [1200/1875], Loss: 0.1798\n",
            "Epoch [25/30], Step [1300/1875], Loss: 0.0002\n",
            "Epoch [25/30], Step [1400/1875], Loss: 0.0001\n",
            "Epoch [25/30], Step [1500/1875], Loss: 0.4816\n",
            "Epoch [25/30], Step [1600/1875], Loss: 0.2165\n",
            "Epoch [25/30], Step [1700/1875], Loss: 0.0597\n",
            "Epoch [25/30], Step [1800/1875], Loss: 0.1023\n",
            "Epoch [26/30], Step [100/1875], Loss: 0.4116\n",
            "Epoch [26/30], Step [200/1875], Loss: 0.0007\n",
            "Epoch [26/30], Step [300/1875], Loss: 0.3698\n",
            "Epoch [26/30], Step [400/1875], Loss: 0.0002\n",
            "Epoch [26/30], Step [500/1875], Loss: 0.0000\n",
            "Epoch [26/30], Step [600/1875], Loss: 0.0000\n",
            "Epoch [26/30], Step [700/1875], Loss: 0.3000\n",
            "Epoch [26/30], Step [800/1875], Loss: 0.0030\n",
            "Epoch [26/30], Step [900/1875], Loss: 0.0000\n",
            "Epoch [26/30], Step [1000/1875], Loss: 0.0002\n",
            "Epoch [26/30], Step [1100/1875], Loss: 0.0254\n",
            "Epoch [26/30], Step [1200/1875], Loss: 0.0020\n",
            "Epoch [26/30], Step [1300/1875], Loss: 0.1660\n",
            "Epoch [26/30], Step [1400/1875], Loss: 0.0000\n",
            "Epoch [26/30], Step [1500/1875], Loss: 0.0164\n",
            "Epoch [26/30], Step [1600/1875], Loss: 0.0486\n",
            "Epoch [26/30], Step [1700/1875], Loss: 0.2385\n",
            "Epoch [26/30], Step [1800/1875], Loss: 0.0004\n",
            "Epoch [27/30], Step [100/1875], Loss: 0.0000\n",
            "Epoch [27/30], Step [200/1875], Loss: 0.0000\n",
            "Epoch [27/30], Step [300/1875], Loss: 0.0169\n",
            "Epoch [27/30], Step [400/1875], Loss: 0.0000\n",
            "Epoch [27/30], Step [500/1875], Loss: 0.0000\n",
            "Epoch [27/30], Step [600/1875], Loss: 0.5619\n",
            "Epoch [27/30], Step [700/1875], Loss: 0.0007\n",
            "Epoch [27/30], Step [800/1875], Loss: 0.0008\n",
            "Epoch [27/30], Step [900/1875], Loss: 0.0001\n",
            "Epoch [27/30], Step [1000/1875], Loss: 0.0291\n",
            "Epoch [27/30], Step [1100/1875], Loss: 0.0000\n",
            "Epoch [27/30], Step [1200/1875], Loss: 0.0000\n",
            "Epoch [27/30], Step [1300/1875], Loss: 0.0575\n",
            "Epoch [27/30], Step [1400/1875], Loss: 0.0003\n",
            "Epoch [27/30], Step [1500/1875], Loss: 0.0000\n",
            "Epoch [27/30], Step [1600/1875], Loss: 0.0359\n",
            "Epoch [27/30], Step [1700/1875], Loss: 0.0052\n",
            "Epoch [27/30], Step [1800/1875], Loss: 0.0569\n",
            "Epoch [28/30], Step [100/1875], Loss: 0.0113\n",
            "Epoch [28/30], Step [200/1875], Loss: 0.0002\n",
            "Epoch [28/30], Step [300/1875], Loss: 0.2347\n",
            "Epoch [28/30], Step [400/1875], Loss: 0.0000\n",
            "Epoch [28/30], Step [500/1875], Loss: 0.0001\n",
            "Epoch [28/30], Step [600/1875], Loss: 0.4270\n",
            "Epoch [28/30], Step [700/1875], Loss: 0.0101\n",
            "Epoch [28/30], Step [800/1875], Loss: 0.0001\n",
            "Epoch [28/30], Step [900/1875], Loss: 0.0043\n",
            "Epoch [28/30], Step [1000/1875], Loss: 0.0000\n",
            "Epoch [28/30], Step [1100/1875], Loss: 0.0000\n",
            "Epoch [28/30], Step [1200/1875], Loss: 0.0000\n",
            "Epoch [28/30], Step [1300/1875], Loss: 0.0959\n",
            "Epoch [28/30], Step [1400/1875], Loss: 0.0005\n",
            "Epoch [28/30], Step [1500/1875], Loss: 0.0230\n",
            "Epoch [28/30], Step [1600/1875], Loss: 0.0134\n",
            "Epoch [28/30], Step [1700/1875], Loss: 0.0001\n",
            "Epoch [28/30], Step [1800/1875], Loss: 0.0001\n",
            "Epoch [29/30], Step [100/1875], Loss: 0.0360\n",
            "Epoch [29/30], Step [200/1875], Loss: 0.0005\n",
            "Epoch [29/30], Step [300/1875], Loss: 0.2222\n",
            "Epoch [29/30], Step [400/1875], Loss: 0.0003\n",
            "Epoch [29/30], Step [500/1875], Loss: 0.0000\n",
            "Epoch [29/30], Step [600/1875], Loss: 0.0000\n",
            "Epoch [29/30], Step [700/1875], Loss: 0.0000\n",
            "Epoch [29/30], Step [800/1875], Loss: 0.0000\n",
            "Epoch [29/30], Step [900/1875], Loss: 0.0701\n",
            "Epoch [29/30], Step [1000/1875], Loss: 0.5117\n",
            "Epoch [29/30], Step [1100/1875], Loss: 0.0062\n",
            "Epoch [29/30], Step [1200/1875], Loss: 0.0287\n",
            "Epoch [29/30], Step [1300/1875], Loss: 0.0510\n",
            "Epoch [29/30], Step [1400/1875], Loss: 0.0000\n",
            "Epoch [29/30], Step [1500/1875], Loss: 0.0000\n",
            "Epoch [29/30], Step [1600/1875], Loss: 0.3699\n",
            "Epoch [29/30], Step [1700/1875], Loss: 0.0008\n",
            "Epoch [29/30], Step [1800/1875], Loss: 0.1756\n",
            "Epoch [30/30], Step [100/1875], Loss: 0.0065\n",
            "Epoch [30/30], Step [200/1875], Loss: 0.0618\n",
            "Epoch [30/30], Step [300/1875], Loss: 0.2537\n",
            "Epoch [30/30], Step [400/1875], Loss: 0.0131\n",
            "Epoch [30/30], Step [500/1875], Loss: 0.0000\n",
            "Epoch [30/30], Step [600/1875], Loss: 0.1447\n",
            "Epoch [30/30], Step [700/1875], Loss: 0.0096\n",
            "Epoch [30/30], Step [800/1875], Loss: 0.0017\n",
            "Epoch [30/30], Step [900/1875], Loss: 0.0001\n",
            "Epoch [30/30], Step [1000/1875], Loss: 0.0000\n",
            "Epoch [30/30], Step [1100/1875], Loss: 0.0000\n",
            "Epoch [30/30], Step [1200/1875], Loss: 0.0000\n",
            "Epoch [30/30], Step [1300/1875], Loss: 0.0000\n",
            "Epoch [30/30], Step [1400/1875], Loss: 0.0089\n",
            "Epoch [30/30], Step [1500/1875], Loss: 0.0000\n",
            "Epoch [30/30], Step [1600/1875], Loss: 0.0002\n",
            "Epoch [30/30], Step [1700/1875], Loss: 0.0110\n",
            "Epoch [30/30], Step [1800/1875], Loss: 0.0000\n"
          ]
        }
      ],
      "source": [
        "# Train\n",
        "total_step = len(train_loader)\n",
        "for epoch in range(num_epochs):\n",
        "    # получаем батч\n",
        "    for i, (images, labels) in enumerate(train_loader):  \n",
        "        # запишем данные в строку\n",
        "        images = images.to(device)\n",
        "        labels = labels.to(device)\n",
        "        \n",
        "        # Forward pass\n",
        "        outputs = model(images)\n",
        "        loss = criterion(outputs, labels)\n",
        "        \n",
        "        # Backprpagation and optimization\n",
        "        optimizer.zero_grad()\n",
        "        # считаем градиенты\n",
        "        loss.backward()\n",
        "        # обновляем параметры\n",
        "        optimizer.step()\n",
        "        \n",
        "        if (i+1) % 100 == 0:\n",
        "            print ('Epoch [{}/{}], Step [{}/{}], Loss: {:.4f}' \n",
        "                   .format(epoch+1, num_epochs, i+1, total_step, loss.item()))"
      ]
    },
    {
      "cell_type": "code",
      "execution_count": 14,
      "metadata": {
        "id": "LlnDk3TkrYS2"
      },
      "outputs": [
        {
          "name": "stdout",
          "output_type": "stream",
          "text": [
            "Accuracy of the network on the 10000 test images: 97.19 %\n"
          ]
        }
      ],
      "source": [
        "\n",
        "\n",
        "# test\n",
        "# так как мы не использовали софтмакс, то берем максимум от выхода сети\n",
        "# и считаем что индекс этого класса и есть наш ответ\n",
        "# для интерпретируемости можно при тестировании добавить SM на выход\n",
        "with torch.no_grad():\n",
        "    correct = 0\n",
        "    total = 0\n",
        "    for images, labels in test_loader:\n",
        "        images = images.to(device)\n",
        "        labels = labels.to(device)\n",
        "        outputs = model(images)\n",
        "        _, predicted = torch.max(outputs.data, 1)\n",
        "        total += labels.size(0)\n",
        "        correct += (predicted == labels).sum().item()\n",
        "\n",
        "\n",
        "    print('Accuracy of the network on the 10000 test images: {} %'.format(100 * correct / total))"
      ]
    },
    {
      "cell_type": "code",
      "execution_count": 15,
      "metadata": {
        "id": "84TJdPOd4tku"
      },
      "outputs": [
        {
          "name": "stdout",
          "output_type": "stream",
          "text": [
            "tensor(7, device='cuda:0')\n",
            "tensor(3, device='cuda:0')\n",
            "tensor(7, device='cuda:0')\n",
            "Test accuracy is 97.19\n"
          ]
        },
        {
          "data": {
            "image/png": "[encoded data removed]",
            "text/plain": [
              "<Figure size 640x480 with 1 Axes>"
            ]
          },
          "metadata": {},
          "output_type": "display_data"
        },
        {
          "data": {
            "image/png": "[encoded data removed]",
            "text/plain": [
              "<Figure size 640x480 with 1 Axes>"
            ]
          },
          "metadata": {},
          "output_type": "display_data"
        },
        {
          "data": {
            "image/png": "[encoded data removed]",
            "text/plain": [
              "<Figure size 640x480 with 1 Axes>"
            ]
          },
          "metadata": {},
          "output_type": "display_data"
        }
      ],
      "source": [
        "import matplotlib.pyplot as plt\n",
        "batch_counter = 0\n",
        "\n",
        "total = 0\n",
        "correct = 0\n",
        "for images, labels in test_loader:\n",
        "\n",
        "    images_flat = images.reshape(-1, 28 * 28).to(device)\n",
        "    labels = labels.to(device)\n",
        "    outputs = model(images_flat)\n",
        "    _, predicted = torch.max(outputs.data, 1)\n",
        "    total += labels.size(0)\n",
        "    correct += (predicted == labels).sum().item()\n",
        "    # отрисуем несколько примеров и выведем наши ответы на них\n",
        "    if (batch_counter < 3):\n",
        "        plt.figure(batch_counter)\n",
        "        plt.imshow(images[0][0])\n",
        "        print(predicted.data[0])\n",
        "    batch_counter += 1\n",
        "\n",
        "print(\"Test accuracy is {}\".format(100 * correct/total))\n",
        "\n"
      ]
    },
    {
      "cell_type": "markdown",
      "metadata": {
        "id": "scXJ6C_XE4fm"
      },
      "source": [
        "Если точность на тесте больше 0.8 — поздравляем с выполнением задания!"
      ]
    }
  ],
  "metadata": {
    "colab": {
      "collapsed_sections": [],
      "name": "Module3_final_task_2.ipynb",
      "provenance": []
    },
    "kernelspec": {
      "display_name": "Python 3",
      "name": "python3"
    },
    "language_info": {
      "codemirror_mode": {
        "name": "ipython",
        "version": 3
      },
      "file_extension": ".py",
      "mimetype": "text/x-python",
      "name": "python",
      "nbconvert_exporter": "python",
      "pygments_lexer": "ipython3",
      "version": "3.11.5"
    }
  },
  "nbformat": 4,
  "nbformat_minor": 0
}
