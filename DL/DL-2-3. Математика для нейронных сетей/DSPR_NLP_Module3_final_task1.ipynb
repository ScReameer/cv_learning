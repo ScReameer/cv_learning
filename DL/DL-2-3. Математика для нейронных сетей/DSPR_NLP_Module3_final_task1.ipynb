{
  "cells": [
    {
      "cell_type": "markdown",
      "metadata": {
        "id": "cGq6BusxQb5R"
      },
      "source": [
        "В этом задании мы будем решать задачу многоклассовой классификации сначала на сгенерированных данных, а затем на датасете Digits. Вы реализуете функции активации и архитектуру нейросети, а затем примените это на датасете."
      ]
    },
    {
      "cell_type": "markdown",
      "metadata": {
        "id": "L_quhVQ8itpJ"
      },
      "source": [
        "Изученные ранее классы и функции, которые нам понадобятся."
      ]
    },
    {
      "cell_type": "code",
      "execution_count": 1,
      "metadata": {},
      "outputs": [],
      "source": [
        "import numpy as np"
      ]
    },
    {
      "cell_type": "code",
      "execution_count": 2,
      "metadata": {
        "id": "VzZC8R0DitV3"
      },
      "outputs": [],
      "source": [
        "class LinearLayer:\n",
        "    def __init__(self, input_size, output_size, activation_function, activation_function_derivative):\n",
        "        \n",
        "        self.input_size = input_size\n",
        "        self.output_size = output_size\n",
        "        \n",
        "        self.W = np.random.random_sample((output_size, input_size)) * 2 - 1\n",
        "        self.b = np.random.random_sample((output_size,)) * 2 - 1\n",
        "            \n",
        "        self.grad_W = np.zeros((output_size, input_size))\n",
        "        self.grad_b = np.zeros((output_size,))\n",
        "        \n",
        "        self.activation_function = activation_function\n",
        "        self.activation_function_derivative = activation_function_derivative\n",
        "        \n",
        "    def forward(self, x):\n",
        "        z = self.W @ x + self.b # z^(l+1) = W^(l)*h^(l) + b^(l)\n",
        "        h = self.activation_function(z) # h^(l) = f(z^(l))\n",
        "        return h, z\n",
        "    \n",
        "    def backward(self, delta_next, z, w_next):\n",
        "        return w_next.T @ delta_next * self.activation_function_derivative(z)\n",
        "\n",
        "    def backward_as_last_layer(self, loss_der, z):\n",
        "        return self.activation_function_derivative(z) * loss_der\n",
        "    \n",
        "    def clear_grad(self):\n",
        "        self.grad_W = np.zeros((self.output_size, self.input_size))\n",
        "        self.grad_b = np.zeros((self.output_size,))\n"
      ]
    },
    {
      "cell_type": "code",
      "execution_count": 3,
      "metadata": {
        "id": "8aR0JlK3i9Da"
      },
      "outputs": [],
      "source": [
        "def sigmoid(x):\n",
        "    return 1 / (1 + np.exp(-x))\n",
        "\n",
        "def sigmoid_deriv(x):\n",
        "    return sigmoid(x) * (1 - sigmoid(x))"
      ]
    },
    {
      "cell_type": "markdown",
      "metadata": {
        "id": "h2OB57ZcdzQq"
      },
      "source": [
        "Импортируем основные библиотеки:\n",
        "\n"
      ]
    },
    {
      "cell_type": "code",
      "execution_count": 4,
      "metadata": {
        "id": "m048DCrxUtiT"
      },
      "outputs": [],
      "source": [
        "import math\n",
        "import numpy as np\n",
        "import seaborn as sns"
      ]
    },
    {
      "cell_type": "markdown",
      "metadata": {
        "id": "UpLwuK1rRFZa"
      },
      "source": [
        "## SoftMax и Cross Entropy"
      ]
    },
    {
      "cell_type": "markdown",
      "metadata": {
        "id": "xsR-qAAsRNXh"
      },
      "source": [
        "### SoftMax и ее производная"
      ]
    },
    {
      "cell_type": "markdown",
      "metadata": {
        "id": "Ix3q3fodeN4g"
      },
      "source": [
        "Основной функцией активации, используемой в нашем случае, является SoftMax."
      ]
    },
    {
      "cell_type": "markdown",
      "metadata": {
        "id": "jVIcqiomekEW"
      },
      "source": [
        "![image.png](data:image/png;base64,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)"
      ]
    },
    {
      "cell_type": "markdown",
      "metadata": {
        "id": "ONYv-UqUemb2"
      },
      "source": [
        "Реализуем ее. Будем возвращать сразу массив значений Softmax для вектора x.\n",
        "\n",
        "Подсказка: очень хорошо для этого подойдёт функция np.exp()."
      ]
    },
    {
      "cell_type": "code",
      "execution_count": 5,
      "metadata": {
        "id": "Jnb4PR7OiIqY"
      },
      "outputs": [],
      "source": [
        "def Softmax(x):\n",
        "    return np.exp(x) / np.sum(np.exp(x))"
      ]
    },
    {
      "cell_type": "markdown",
      "metadata": {
        "id": "UvPiGJdotRxQ"
      },
      "source": [
        "Также, нам понадобится производная SoftMax. Здесь мы применим один трюк — гораздо удобнее считать производные SoftMax и Cross Entropy совместно, как CE(softmax(x)). Поэтому обозначим производную за 1, чтобы не переписывать весь код нейронных сетей."
      ]
    },
    {
      "cell_type": "code",
      "execution_count": 6,
      "metadata": {
        "id": "KCvpYU2L_BUm"
      },
      "outputs": [],
      "source": [
        "def Softmax_derivative(x):\n",
        "    return 1"
      ]
    },
    {
      "cell_type": "markdown",
      "metadata": {
        "id": "q-9ElRuztxWf"
      },
      "source": [
        "SoftMax должен сохранить относительные размеры элементов массива. То есть тот элемент, который до SoftMax был больше других, должен быть и после применения больше, а меньший элемент, соответственно, меньше."
      ]
    },
    {
      "cell_type": "code",
      "execution_count": 7,
      "metadata": {
        "id": "0qg2did0nD5k"
      },
      "outputs": [
        {
          "name": "stdout",
          "output_type": "stream",
          "text": [
            "[4.53922671e-05 1.23388975e-04 9.99831219e-01]\n"
          ]
        }
      ],
      "source": [
        "test = np.array([0, 1, 10])\n",
        "print(Softmax(test))"
      ]
    },
    {
      "cell_type": "code",
      "execution_count": 8,
      "metadata": {
        "id": "WIzsX2_0D_RE"
      },
      "outputs": [
        {
          "name": "stdout",
          "output_type": "stream",
          "text": [
            "1\n"
          ]
        }
      ],
      "source": [
        "print(Softmax_derivative(test))"
      ]
    },
    {
      "cell_type": "markdown",
      "metadata": {
        "id": "HMVV_n5ZRSIg"
      },
      "source": [
        "### Cross Entropy Loss"
      ]
    },
    {
      "cell_type": "markdown",
      "metadata": {
        "id": "RiCBhjt3uHA-"
      },
      "source": [
        "Реализуем CE Loss:\n"
      ]
    },
    {
      "cell_type": "markdown",
      "metadata": {
        "id": "zvw7OiPMuQkt"
      },
      "source": [
        "![image.png](data:image/png;base64,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)"
      ]
    },
    {
      "cell_type": "markdown",
      "metadata": {
        "id": "7DyEBfwyuRo1"
      },
      "source": [
        "Для начала преобразуем наш target в так называемый one hot vector — \n",
        "он представляет собой вектор размера максимального количества классов, где \n",
        "каждое число отвечает за класс. То есть, например, для target=3 при общем количестве классов 5 one hot vector будет выглядеть как [0,0,0,1,0]"
      ]
    },
    {
      "cell_type": "code",
      "execution_count": 12,
      "metadata": {
        "id": "QY6AqIjJoHVB"
      },
      "outputs": [
        {
          "name": "stdout",
          "output_type": "stream",
          "text": [
            "[[0. 1. 0. 0. 0.]\n",
            " [0. 0. 1. 0. 0.]\n",
            " [0. 0. 0. 0. 1.]\n",
            " [0. 0. 0. 1. 0.]\n",
            " [1. 0. 0. 0. 0.]]\n"
          ]
        }
      ],
      "source": [
        "def targets_to_onehot(N_classes, targets):\n",
        "    one_hot_matrix = np.zeros((len(targets), N_classes))\n",
        "    for target_row, idx in zip(one_hot_matrix, targets):\n",
        "        target_row[idx] = 1\n",
        "    return one_hot_matrix\n",
        "            \n",
        "print(targets_to_onehot(5, [1,2,4,3,0]))\n",
        "\n",
        "#[[0. 1. 0. 0. 0.]\n",
        "# [0. 0. 1. 0. 0.]\n",
        "# [0. 0. 0. 0. 1.]\n",
        "# [0. 0. 0. 1. 0.]\n",
        "# [1. 0. 0. 0. 0.]]"
      ]
    },
    {
      "cell_type": "markdown",
      "metadata": {
        "id": "m4dMsV1-yUMi"
      },
      "source": [
        "Используем такой трюк: введем epsilon(eps) и с его помощью ограничим числа, чтобы не получить случайно 0 внутри логарифма, что приведет к Nan.\n",
        "\n",
        "При этом выберем eps достаточно маленьким, чтобы не потерять точность.\n",
        "\n",
        "Для ограничения чисел воспользуемся функцией np.clip(), её нужно задать верхнюю и нижние границы."
      ]
    },
    {
      "cell_type": "code",
      "execution_count": 25,
      "metadata": {
        "id": "V_ipYeA7yTJF"
      },
      "outputs": [],
      "source": [
        "def CE_loss(predicts, targets):\n",
        "    targets_one_hot = targets_to_onehot(len(predicts), targets)\n",
        "    eps = 1e-12\n",
        "    preds = np.clip(predicts, eps, 1-eps)\n",
        "    return -np.sum(np.multiply(targets_one_hot, np.log(preds)))"
      ]
    },
    {
      "cell_type": "markdown",
      "metadata": {
        "id": "xJCFihXfzq_H"
      },
      "source": [
        "Проверьте себя, должны получиться числа как в комментариях."
      ]
    },
    {
      "cell_type": "code",
      "execution_count": 26,
      "metadata": {
        "id": "J7yc8Ey3uRjW"
      },
      "outputs": [
        {
          "name": "stdout",
          "output_type": "stream",
          "text": [
            "27.631021115930547\n",
            "2.9999336348411356e-12\n"
          ]
        }
      ],
      "source": [
        "print(CE_loss([[1,2,3], [3,2,1], [0,1,0]], [0,1,2]))\n",
        "# 9.21034037197685\n",
        "print(CE_loss([[1,2,3], [3,2,1], [0,1,0]], [2,0,1]))\n",
        "# 9.999778782803785e-13"
      ]
    },
    {
      "cell_type": "markdown",
      "metadata": {
        "id": "lOm9aAJzzdQQ"
      },
      "source": [
        "###Производная CE с учетом SoftMax\n",
        "\n",
        "Для начала нам нужно посчитать производную SoftMax.\n"
      ]
    },
    {
      "cell_type": "markdown",
      "metadata": {
        "id": "mYXdxQ5zY-TQ"
      },
      "source": [
        "Рассматривается два случая — производная от SM(x_i) по x_c, где c!=i и где c=i, то есть производная от SM(x_i) по x_i."
      ]
    },
    {
      "cell_type": "markdown",
      "metadata": {
        "id": "C4EC0A5QZWEL"
      },
      "source": [
        "Первый случай — производная по x_c.\n",
        "\n",
        "Ваша задача посчитать производную по x_c и выразить её через функцию SoftMax."
      ]
    },
    {
      "cell_type": "code",
      "execution_count": null,
      "metadata": {
        "id": "fufHtP0MZ27P"
      },
      "outputs": [],
      "source": [
        "def dSoftmax_dxc(x, c, i):\n",
        "    # место для вашего кода"
      ]
    },
    {
      "cell_type": "code",
      "execution_count": null,
      "metadata": {
        "id": "KmnN0cVnaU60"
      },
      "outputs": [],
      "source": [
        "x = [1,2,3,4,5]\n",
        "print(dSoftmax_dxc(x, 1, 2))\n",
        "#-0.0027289761087486435\n",
        "print(dSoftmax_dxc(x, 2, 1))\n",
        "#-0.0027289761087486435\n",
        "print(dSoftmax_dxc(x, 3, 2))\n",
        "#-0.020164557560185196\n",
        "print(dSoftmax_dxc(x, 4, 3))\n",
        "#-0.14899704702232458"
      ]
    },
    {
      "cell_type": "markdown",
      "metadata": {
        "id": "abzH3Uysa4PM"
      },
      "source": [
        "Теперь посчитайте производную по x_i."
      ]
    },
    {
      "cell_type": "code",
      "execution_count": null,
      "metadata": {
        "id": "yVJWDeQra_ok"
      },
      "outputs": [],
      "source": [
        "def dSoftmax_dxi(x, i):\n",
        "    # место для вашего кода"
      ]
    },
    {
      "cell_type": "code",
      "execution_count": null,
      "metadata": {
        "id": "RPSoNJoFbIDy"
      },
      "outputs": [],
      "source": [
        "x = [1,2,3,4,5]\n",
        "\n",
        "print(dSoftmax_dxi(x, 0))\n",
        "#0.01152036323593907\n",
        "print(dSoftmax_dxi(x, 1))\n",
        "#0.0306809865902676\n",
        "print(dSoftmax_dxi(x, 2))\n",
        "#0.0787104182695584\n",
        "print(dSoftmax_dxi(x, 3))\n",
        "#0.17930870685796874\n",
        "print(dSoftmax_dxi(x, 4))\n",
        "#0.23139268114398798"
      ]
    },
    {
      "cell_type": "markdown",
      "metadata": {
        "id": "_SFhoksNblh4"
      },
      "source": [
        "Теперь перейдем к производной от Cross Entropy."
      ]
    },
    {
      "cell_type": "markdown",
      "metadata": {
        "id": "gaty0nYIe2CD"
      },
      "source": [
        "![image.png](data:image/png;base64,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)"
      ]
    },
    {
      "cell_type": "markdown",
      "metadata": {
        "id": "oN9cemoBfCF7"
      },
      "source": [
        "Производную кросс энтропии можно разделить на две части — та, в которой берется производная по совпадающему индексу i и сумма всех остальных, далее нужно подставить производные софтмакса, далее получится что-то вроде двух слагаемых, в одном из которых сумма по c!=i, в другом выражение с i-ым индексом\n",
        "\n",
        "После можно заметить что часть из левого выражения можно внести под сумму и получить сумму уже по всем индексам без исключений. Также следует принять во внимание что t здесь — это тот самый one hot вектор, поэтому сумма по нему будет равна единице.\n",
        "\n",
        "В итоге должно получиться очень простое выражение. Предлагаем вам самим проделать данный вывод и убедиться в том, насколько хорошо подходят Cross Entropy и Softmax друг другу."
      ]
    },
    {
      "cell_type": "code",
      "execution_count": null,
      "metadata": {
        "id": "bYXpwBTsvIRz"
      },
      "outputs": [],
      "source": [
        "def CE_and_softmax_loss_derivative(predicts, targets):\n",
        "    targets_one_hot = targets_to_onehot(len(predicts), targets)\n",
        "    return # место для вашего кода"
      ]
    },
    {
      "cell_type": "markdown",
      "metadata": {
        "id": "cKMC8N02uRCN"
      },
      "source": [
        "Давайте проверим себя, в комментарии указано то, что должно получиться."
      ]
    },
    {
      "cell_type": "code",
      "execution_count": null,
      "metadata": {
        "id": "MpB0s-CX8jRd"
      },
      "outputs": [],
      "source": [
        "print(CE_and_softmax_loss_derivative([[0.1,0.2,0.7], [0.7,0.2,0.1], [0,1,0]], [0,1,2]))\n",
        "\"\"\"\n",
        "[[-0.9  0.2  0.7]\n",
        " [ 0.7 -0.8  0.1]\n",
        " [ 0.   1.  -1. ]]\n",
        "\"\"\"\n",
        "print(CE_and_softmax_loss_derivative([[0.1,0.2,0.7], [0.7,0.2,0.1], [0,1,0]], [2,0,1]))\n",
        "\"\"\"\n",
        "[[ 0.1  0.2 -0.3]\n",
        " [-0.3  0.2  0.1]\n",
        " [ 0.   0.   0. ]]\n",
        " \"\"\"\n"
      ]
    },
    {
      "cell_type": "markdown",
      "metadata": {
        "id": "xVDhUbjLRnvO"
      },
      "source": [
        "## Сгенерированные данные"
      ]
    },
    {
      "cell_type": "markdown",
      "metadata": {
        "id": "4mJTfzBphNZu"
      },
      "source": [
        "Итак, теперь мы готовы решать задачу многоклассовой классификации.\n",
        "\n",
        "Сгенерируем данные, пусть это будут числа от 1 до 300, определим для них классы.\n",
        "\n",
        "*   1-99 — класс 0\n",
        "*   100-199 — класс 1\n",
        "*   200-300 — класс 2"
      ]
    },
    {
      "cell_type": "code",
      "execution_count": null,
      "metadata": {
        "id": "wUIpmbyi8wEN"
      },
      "outputs": [],
      "source": [
        "new_data_x = np.random.randint(1, 300, 200)\n",
        "print(new_data_x)\n",
        "new_data_target = new_data_x // 100\n",
        "print(new_data_target)"
      ]
    },
    {
      "cell_type": "markdown",
      "metadata": {
        "id": "QFCiIfE7h2KI"
      },
      "source": [
        "Здесь ничего для вас нового нет, кроме того, что для последнего слоя мы применяем SoftMax как функцию активации.\n",
        "\n",
        "Вообще, Softmax не совсем корректно называть функцией активации, так как её значения зависят от выходов всех нейронов, а не одного, к которому она применяется, так что это скорее математический трюк."
      ]
    },
    {
      "cell_type": "markdown",
      "metadata": {
        "id": "h-vSgLqTRsr3"
      },
      "source": [
        "## Нейронная сеть"
      ]
    },
    {
      "cell_type": "markdown",
      "metadata": {
        "id": "x_FtEa60QrcD"
      },
      "source": [
        "Напишем класс нейросети."
      ]
    },
    {
      "cell_type": "code",
      "execution_count": null,
      "metadata": {
        "id": "0UKa8XQw-Pwn"
      },
      "outputs": [],
      "source": [
        "import tqdm\n",
        "\n",
        "\n",
        "class MultiClassNN:\n",
        "    def __init__(self, structure, loss, loss_derivative):\n",
        "        self.structure = structure\n",
        "        self.layers = []\n",
        "        self.loss = loss\n",
        "        self.loss_derivative = loss_derivative\n",
        "        # место для вашего кода\n",
        "        # заполните массив layers слоями с сигмоидой\n",
        "        # а последнему слою вместо сигмоиды поставьте softmax\n",
        "        \n",
        "    def apply(self, x):\n",
        "        # определите функцию apply\n",
        "        # она должна возвращать значение на последнем слое\n",
        "    \n",
        "    def forward(self, x):\n",
        "        h_array = [x]\n",
        "        z_array = []\n",
        "        for layer in self.layers:\n",
        "            h, z = layer.forward(h_array[-1])\n",
        "            h_array.append(h)\n",
        "            z_array.append(z)        \n",
        "        return h_array, z_array\n",
        "    \n",
        "    def clear_grad_values(self):\n",
        "        # задайте функцию обнуления градиентов\n",
        "    \n",
        "    def train(self, X, y, iter_num = 500, alpha = 0.1):\n",
        "        m = len(y)\n",
        "        avg_cost_func = []\n",
        "        for _ in tqdm.tqdm(range(iter_num)):    \n",
        "            avg_cost = 0\n",
        "            self.clear_grad_values()\n",
        "            for i in range(len(y)):\n",
        "                # one sample per time\n",
        "                h, z = self.forward(X[i, :])             \n",
        "\n",
        "                # backward pass\n",
        "                grads = {}\n",
        "                for layer_num, layer in reversed(list(enumerate(self.layers))):\n",
        "                    if layer_num == len(self.layers) - 1:\n",
        "                        # определите подсчет градиента для последнего слоя\n",
        "                        # также посчитайте текущий лосс\n",
        "                    else:\n",
        "                        # определите расчет градиента для остальных слоёв\n",
        "                    layer.grad_W += grads[layer_num][:,np.newaxis] @ np.transpose(h[layer_num][:,np.newaxis])\n",
        "                    layer.grad_b += grads[layer_num]\n",
        "                        \n",
        "            \n",
        "            for layer in self.layers:\n",
        "                # обновление весов\n",
        "\n",
        "            # вычисление среднего лосса\n",
        "            avg_cost = avg_cost/ m\n",
        "            avg_cost_func.append(avg_cost)\n",
        "            \n",
        "        return avg_cost_func"
      ]
    },
    {
      "cell_type": "markdown",
      "metadata": {
        "id": "SUsT1aYgRzse"
      },
      "source": [
        "## Обучение нейросети"
      ]
    },
    {
      "cell_type": "code",
      "execution_count": null,
      "metadata": {
        "id": "rfvsG8CUEJ4q"
      },
      "outputs": [],
      "source": [
        "N = MultiClassNN([1,2,3], CE_loss, CE_and_softmax_loss_derivative)\n",
        "\n",
        "print(N.apply([150]))\n",
        "\n",
        "avg_cost_func = N.train(new_data_x.reshape(-1, 1), new_data_target.reshape(-1, 1), 1500, 0.1)\n",
        "\n",
        "sns.lineplot(data=avg_cost_func)\n",
        "# get the prediction accuracy and print\n",
        "predictions = [N.apply([10]), N.apply([260]),N.apply([140])]\n",
        "print(predictions)"
      ]
    },
    {
      "cell_type": "markdown",
      "metadata": {
        "id": "il1FfnJmku-I"
      },
      "source": [
        "Ничего не получилось? Не удивляйтесь, дело в том, что у наших данных достаточно большой разброс и они принимают достаточно большие значения, которые после прохождения через сигмоиду все становятся близки к 1."
      ]
    },
    {
      "cell_type": "code",
      "execution_count": null,
      "metadata": {
        "id": "EpsHiQz1k7nV"
      },
      "outputs": [],
      "source": [
        "print(sigmoid(1), sigmoid(5), sigmoid(10), sigmoid(99), sigmoid(199), sigmoid(299))"
      ]
    },
    {
      "cell_type": "markdown",
      "metadata": {
        "id": "FBKxwldmldQQ"
      },
      "source": [
        "Давайте теперь нормализуем наши данные — значения x переведем в диапазон [0,1]."
      ]
    },
    {
      "cell_type": "code",
      "execution_count": null,
      "metadata": {
        "id": "DBTVa7ZtWorD"
      },
      "outputs": [],
      "source": [
        "new_data_x = np.random.randint(1, 300, 200)\n",
        "new_data_target = new_data_x // 100\n",
        "print(new_data_target)\n",
        "new_data_x = new_data_x / 300\n",
        "print(new_data_x)"
      ]
    },
    {
      "cell_type": "code",
      "execution_count": null,
      "metadata": {
        "id": "E04EaUAmEg1_"
      },
      "outputs": [],
      "source": [
        "N = MultiClassNN([1,2,3], CE_loss, CE_and_softmax_loss_derivative)\n",
        "\n",
        "print(N.apply([0.1]))\n",
        "\n",
        "avg_cost_func = N.train(new_data_x.reshape(-1, 1), new_data_target.reshape(-1, 1), 1500, 0.1)\n",
        "\n",
        "sns.lineplot(data=avg_cost_func)\n",
        "# get the prediction accuracy and print\n",
        "predictions = [N.apply([0.2]), N.apply([0.6]),N.apply([0.9])]\n",
        "print(predictions)"
      ]
    },
    {
      "cell_type": "markdown",
      "metadata": {
        "id": "4jJ7iOOUmBrU"
      },
      "source": [
        "Теперь наша сеть действительно научилась отделять числа на числовой прямой. Только нужно не забывать о том, что и данные ей теперь всегда нужно давать нормализованные."
      ]
    },
    {
      "cell_type": "markdown",
      "metadata": {
        "id": "v6Oyfmgfj8FH"
      },
      "source": [
        "# Обучение сети на Digits"
      ]
    },
    {
      "cell_type": "markdown",
      "metadata": {
        "id": "5wmngN7YmUQ1"
      },
      "source": [
        "Давайте попробуем нашу сеть на чем-то более серьезном.\n",
        "\n",
        "Возьмем датасет Digits — он представляет собой изображения рукописных чисел размером 8х8 пикселей."
      ]
    },
    {
      "cell_type": "code",
      "execution_count": null,
      "metadata": {
        "colab": {
          "base_uri": "https://localhost:8080/",
          "height": 141
        },
        "id": "LtVhLIHDWz6r",
        "outputId": "2d2dd165-a850-48ae-ab4c-f6c28b556864"
      },
      "outputs": [
        {
          "data": {
            "image/png": "[encoded data removed]",
            "text/plain": [
              "<Figure size 1440x216 with 10 Axes>"
            ]
          },
          "metadata": {
            "needs_background": "light",
            "tags": []
          },
          "output_type": "display_data"
        }
      ],
      "source": [
        "import matplotlib.pyplot as plt\n",
        "\n",
        "from sklearn import datasets\n",
        "from sklearn.model_selection import train_test_split\n",
        "\n",
        "digits = datasets.load_digits()\n",
        "\n",
        "_, axes = plt.subplots(nrows=1, ncols=10, figsize=(20, 3))\n",
        "for ax, image, label in zip(axes, digits.images, digits.target):\n",
        "    ax.set_axis_off()\n",
        "    ax.imshow(image, cmap=plt.cm.gray_r, interpolation='nearest')\n",
        "    ax.set_title('Sample: %i' % label)"
      ]
    },
    {
      "cell_type": "markdown",
      "metadata": {
        "id": "vpULmRgbmqs0"
      },
      "source": [
        "Мы реализовали только линейный слой, а он не может принимать на вход двумерные изображения.\n",
        "\n",
        "Но есть выход, давайте разложим двумерную матрицу изображения в одномерный вектор, для этого воспользуемся функцией reshape, вам нужно только выбрать правильный размер."
      ]
    },
    {
      "cell_type": "code",
      "execution_count": null,
      "metadata": {
        "id": "nL1vMn_JW_Ks"
      },
      "outputs": [],
      "source": [
        "n_samples = len(digits.images)\n",
        "data = digits.images.reshape((# место для вашего кода)) \n",
        "\n",
        "# эта функция поможет разбить наш датасет на обучающую и тестовые выборки случайным образом\n",
        "# data/16 — это нормализация\n",
        "\n",
        "X_train, X_test, y_train, y_test = train_test_split(\n",
        "    data/16, digits.target, test_size=0.3, shuffle=False)\n",
        "\n",
        "print(X_train.shape, y_train.reshape(-1, 1).shape)\n",
        "#(1257, 64) (1257, 1)"
      ]
    },
    {
      "cell_type": "markdown",
      "metadata": {
        "id": "iy5bv3_ln6or"
      },
      "source": [
        "Выберите структуру сети сами. Важно указать правильно входной и выходные размеры — размер вектора картинки и количество различных цифр в нашем датасете.\n",
        "\n",
        "Также предлагаем вам подобрать количество итераций и learning rate."
      ]
    },
    {
      "cell_type": "code",
      "execution_count": null,
      "metadata": {
        "id": "2Pv1gVl7X8yw"
      },
      "outputs": [],
      "source": [
        "structure = [[# место для вашего кода]]\n",
        "\n",
        "iter_num = # место для вашего кода\n",
        "\n",
        "lr = # место для вашего кода\n",
        "\n",
        "N = MultiClassNN(structure, CE_loss, CE_and_softmax_loss_derivative)\n",
        "\n",
        "avg_cost_func = N.train(X_train, y_train.reshape(-1, 1), iter_num, lr)\n",
        "\n",
        "sns.lineplot(data=avg_cost_func)"
      ]
    },
    {
      "cell_type": "markdown",
      "metadata": {
        "id": "vEoIOEsyq1F9"
      },
      "source": [
        "Проверим на каком-нибудь примере, как всё работает."
      ]
    },
    {
      "cell_type": "code",
      "execution_count": null,
      "metadata": {
        "id": "Okr9Mo_TrLFm"
      },
      "outputs": [],
      "source": [
        "predictions = N.apply(X_train[1])\n",
        "print(predictions, y_train[1])"
      ]
    },
    {
      "cell_type": "markdown",
      "metadata": {
        "id": "C_4q84anos2Y"
      },
      "source": [
        "Теперь посчитаем точность вашей сети:"
      ]
    },
    {
      "cell_type": "code",
      "execution_count": null,
      "metadata": {
        "id": "snlAM3choMSm"
      },
      "outputs": [],
      "source": [
        "def estimate_accuracy(predictions, targets):\n",
        "    sum = 0\n",
        "    for i in range(len(predictions)):\n",
        "        if predictions[i] == targets[i]:\n",
        "            sum += 1\n",
        "    return sum/len(predictions)\n",
        "        "
      ]
    },
    {
      "cell_type": "code",
      "execution_count": null,
      "metadata": {
        "id": "yPJV9CPFpX0w"
      },
      "outputs": [],
      "source": [
        "train_preds = np.array([N.apply(x).argmax() for x in X_train])\n",
        "print(\"train accuracy = {}\".format(estimate_accuracy(our_preds, y_train)))\n",
        "\n",
        "test_preds = np.array([N.apply(x).argmax() for x in X_test])\n",
        "print(\"test accuracy = {}\".format(estimate_accuracy(test_preds, y_test)))"
      ]
    },
    {
      "cell_type": "markdown",
      "metadata": {
        "id": "B2dICOnhqqMZ"
      },
      "source": [
        "Задание считается выполненным, если test_accuracy >= 0.8."
      ]
    }
  ],
  "metadata": {
    "colab": {
      "collapsed_sections": [],
      "name": "Module3_final_task1.ipynb",
      "provenance": [],
      "toc_visible": true
    },
    "kernelspec": {
      "display_name": "Python 3",
      "name": "python3"
    },
    "language_info": {
      "codemirror_mode": {
        "name": "ipython",
        "version": 3
      },
      "file_extension": ".py",
      "mimetype": "text/x-python",
      "name": "python",
      "nbconvert_exporter": "python",
      "pygments_lexer": "ipython3",
      "version": "3.11.5"
    }
  },
  "nbformat": 4,
  "nbformat_minor": 0
}
